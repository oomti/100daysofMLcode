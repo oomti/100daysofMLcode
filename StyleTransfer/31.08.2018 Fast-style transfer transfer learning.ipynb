{
 "cells": [
  {
   "cell_type": "markdown",
   "metadata": {},
   "source": [
    " ### Using tutorial from floydhub :  https://docs.floydhub.com/examples/style_transfer/\n",
    " \n",
    " #### The goal now is to use transfer learning, and use the trained network on multiple images on multiple style in a batch.\n",
    " \n",
    " First create new directory for project, prepare kernel, initialize floydhub client, initialize python kernel, check history to copy in jupyter\n",
    " \n",
    "  `498  cd fast-style-transfer\n",
    "  499  ls\n",
    "  500  cd ..\n",
    "  501  virtualenv virtual-fast-style-transfer\n",
    "  502  source ~/virtual-fast-style-transfer/bin/activate\n",
    "  503  source /virtual-fast-style-transfer/bin/activate\n",
    "  504  source virtual-fast-style-transfer/bin/activate\n",
    "  505  ls\n",
    "  506  cd virtual-fast-style-transfer\n",
    "  507  git clone https://github.com/floydhub/fast-style-transfer\n",
    "  508  cd fast-style-transfer\n",
    "  509  ls\n",
    "  510  floyd init fast-style-transfer\n",
    "  511  pip install floyd-cli\n",
    "  512  floyd init fast-style-transfer\n",
    "  513  pip install ipykernel\n",
    "  514  ipython kernel install --user --name=fast-style-transfer\n",
    "  515  history`\n"
   ]
  },
  {
   "cell_type": "markdown",
   "metadata": {},
   "source": [
    "### Evaluating pre-trained model\n",
    "From terminal, clone your desired images into your directory beforehand\n",
    "\n",
    "` floyd run --env tensorflow-0.12:py2 --data narenst/datasets/neural-style-transfer-pre-trained-models/1:models \"python evaluate.py --allow-different-dimensions  --checkpoint /models/la_muse.ckpt --in-path ./images/ --out-path /output/\"\n",
    "`"
   ]
  },
  {
   "cell_type": "markdown",
   "metadata": {},
   "source": [
    "## Creating a service on floydhub\n",
    "\n",
    "`floyd run --env tensorflow-0.12:py2 --data narenst/datasets/neural-style-transfer-pre-trained-models/1:input --mode serve`\n",
    "\n"
   ]
  },
  {
   "cell_type": "markdown",
   "metadata": {},
   "source": [
    "# Calling the API\n",
    "\n",
    "`\n",
    "The URL\n",
    "https://www.floydlabs.com/serve/u7TtymayE9WQ2W2nEUYNHK\n",
    "\n",
    "`\n",
    "### Second try:\n",
    "\n",
    "`\n",
    "URL to job: https://www.floydhub.com/oomti/projects/fast-style-transfer/10\n",
    "URL to service endpoint: https://www.floydlabs.com/serve/jaQTMWjwSWMvdPGJNWDjG4\n",
    "`\n",
    "\n",
    "Example\n",
    "\n",
    "`\n",
    "curl -o Tibor_udnie.jpg -F \"file=@./images/Tibor.png\" -F \"checkpoint=wave.ckpt\"  https://www.floydlabs.com/serve/u7TtymayE9WQ2W2nEUYNHK\n",
    "`\n",
    "\n",
    "List of desired styles:\n",
    "\n",
    "`\n",
    "coffee.jpg      forest.jpeg  naruto.jpg  rain_princess.jpg  wave.jpg\n",
    "colorcloud.jpg  magical.jpg  pixel.jpeg  traffic.jpg\n",
    "\n",
    "`\n",
    "\n",
    "Prepared styles:\n",
    "\n",
    "`\n",
    "la_muse.jpg  rain_princess.jpg  the_shipwreck_of_the_minotaur.jpg  wave.jpg the_scream.jpg udnie.jpg\n",
    "`"
   ]
  },
  {
   "cell_type": "markdown",
   "metadata": {},
   "source": [
    "# Trials:\n",
    "\n",
    "`\n",
    "curl -o Tibor_udnie.jpg -F \"file=@./images/Tibor.jpg\" -F \"checkpoint=udnie.ckpt\" https://www.floydlabs.com/serve/jaQTMWjwSWMvdPGJNWDjG4\n",
    "`\n"
   ]
  },
  {
   "cell_type": "code",
   "execution_count": 72,
   "metadata": {
    "scrolled": true
   },
   "outputs": [
    {
     "name": "stdout",
     "output_type": "stream",
     "text": [
      "['cat', 'moon', 'naruto', 'Tibor']\n",
      "['rain_princess', 'wreck', 'wave', 'scream', 'udnie', 'la_muse']\n",
      "curl -o cat_rain_princess.jpg -F \"file=@./images/cat.jpg\" -F \"checkpoint=rain_princess.ckpt\" https://www.floydlabs.com/serve/jaQTMWjwSWMvdPGJNWDjG4\n",
      "curl -o cat_wreck.jpg -F \"file=@./images/cat.jpg\" -F \"checkpoint=wreck.ckpt\" https://www.floydlabs.com/serve/jaQTMWjwSWMvdPGJNWDjG4\n",
      "curl -o cat_wave.jpg -F \"file=@./images/cat.jpg\" -F \"checkpoint=wave.ckpt\" https://www.floydlabs.com/serve/jaQTMWjwSWMvdPGJNWDjG4\n",
      "curl -o cat_scream.jpg -F \"file=@./images/cat.jpg\" -F \"checkpoint=scream.ckpt\" https://www.floydlabs.com/serve/jaQTMWjwSWMvdPGJNWDjG4\n",
      "curl -o cat_udnie.jpg -F \"file=@./images/cat.jpg\" -F \"checkpoint=udnie.ckpt\" https://www.floydlabs.com/serve/jaQTMWjwSWMvdPGJNWDjG4\n",
      "curl -o cat_la_muse.jpg -F \"file=@./images/cat.jpg\" -F \"checkpoint=la_muse.ckpt\" https://www.floydlabs.com/serve/jaQTMWjwSWMvdPGJNWDjG4\n",
      "curl -o moon_rain_princess.jpg -F \"file=@./images/moon.jpg\" -F \"checkpoint=rain_princess.ckpt\" https://www.floydlabs.com/serve/jaQTMWjwSWMvdPGJNWDjG4\n",
      "curl -o moon_wreck.jpg -F \"file=@./images/moon.jpg\" -F \"checkpoint=wreck.ckpt\" https://www.floydlabs.com/serve/jaQTMWjwSWMvdPGJNWDjG4\n",
      "curl -o moon_wave.jpg -F \"file=@./images/moon.jpg\" -F \"checkpoint=wave.ckpt\" https://www.floydlabs.com/serve/jaQTMWjwSWMvdPGJNWDjG4\n",
      "curl -o moon_scream.jpg -F \"file=@./images/moon.jpg\" -F \"checkpoint=scream.ckpt\" https://www.floydlabs.com/serve/jaQTMWjwSWMvdPGJNWDjG4\n",
      "curl -o moon_udnie.jpg -F \"file=@./images/moon.jpg\" -F \"checkpoint=udnie.ckpt\" https://www.floydlabs.com/serve/jaQTMWjwSWMvdPGJNWDjG4\n",
      "curl -o moon_la_muse.jpg -F \"file=@./images/moon.jpg\" -F \"checkpoint=la_muse.ckpt\" https://www.floydlabs.com/serve/jaQTMWjwSWMvdPGJNWDjG4\n",
      "curl -o naruto_rain_princess.jpg -F \"file=@./images/naruto.jpg\" -F \"checkpoint=rain_princess.ckpt\" https://www.floydlabs.com/serve/jaQTMWjwSWMvdPGJNWDjG4\n",
      "curl -o naruto_wreck.jpg -F \"file=@./images/naruto.jpg\" -F \"checkpoint=wreck.ckpt\" https://www.floydlabs.com/serve/jaQTMWjwSWMvdPGJNWDjG4\n",
      "curl -o naruto_wave.jpg -F \"file=@./images/naruto.jpg\" -F \"checkpoint=wave.ckpt\" https://www.floydlabs.com/serve/jaQTMWjwSWMvdPGJNWDjG4\n",
      "curl -o naruto_scream.jpg -F \"file=@./images/naruto.jpg\" -F \"checkpoint=scream.ckpt\" https://www.floydlabs.com/serve/jaQTMWjwSWMvdPGJNWDjG4\n",
      "curl -o naruto_udnie.jpg -F \"file=@./images/naruto.jpg\" -F \"checkpoint=udnie.ckpt\" https://www.floydlabs.com/serve/jaQTMWjwSWMvdPGJNWDjG4\n",
      "curl -o naruto_la_muse.jpg -F \"file=@./images/naruto.jpg\" -F \"checkpoint=la_muse.ckpt\" https://www.floydlabs.com/serve/jaQTMWjwSWMvdPGJNWDjG4\n",
      "curl -o Tibor_rain_princess.jpg -F \"file=@./images/Tibor.jpg\" -F \"checkpoint=rain_princess.ckpt\" https://www.floydlabs.com/serve/jaQTMWjwSWMvdPGJNWDjG4\n",
      "curl -o Tibor_wreck.jpg -F \"file=@./images/Tibor.jpg\" -F \"checkpoint=wreck.ckpt\" https://www.floydlabs.com/serve/jaQTMWjwSWMvdPGJNWDjG4\n",
      "curl -o Tibor_wave.jpg -F \"file=@./images/Tibor.jpg\" -F \"checkpoint=wave.ckpt\" https://www.floydlabs.com/serve/jaQTMWjwSWMvdPGJNWDjG4\n",
      "curl -o Tibor_scream.jpg -F \"file=@./images/Tibor.jpg\" -F \"checkpoint=scream.ckpt\" https://www.floydlabs.com/serve/jaQTMWjwSWMvdPGJNWDjG4\n",
      "curl -o Tibor_udnie.jpg -F \"file=@./images/Tibor.jpg\" -F \"checkpoint=udnie.ckpt\" https://www.floydlabs.com/serve/jaQTMWjwSWMvdPGJNWDjG4\n",
      "curl -o Tibor_la_muse.jpg -F \"file=@./images/Tibor.jpg\" -F \"checkpoint=la_muse.ckpt\" https://www.floydlabs.com/serve/jaQTMWjwSWMvdPGJNWDjG4\n"
     ]
    }
   ],
   "source": [
    "#Create a script to work all combinations of the images\n",
    "\n",
    "import re\n",
    "\n",
    "image_names=[\"cat.jpg moon.jpg naruto.jpg Tibor.jpg\"]\n",
    "image_names=[name.split(\" \") for name in image_names]\n",
    "chkpt_names=[\"rain_princess.jpg wreck.jpg wave.jpg scream.jpg udnie.jpg la_muse.jpg\"]\n",
    "chkpt_names=[name.split(\" \") for name in chkpt_names]\n",
    "\n",
    "chkpt=list()\n",
    "images=list()\n",
    "for name in chkpt_names[0]:\n",
    "    chkpt.append(re.sub('\\.jpg$', '', name))\n",
    "    \n",
    "for name in image_names[0]:\n",
    "    images.append(re.sub('\\.jpg$', '', name))\n",
    "    \n",
    "\n",
    "image_names=image_names[0]        \n",
    "print(images)\n",
    "print(chkpt)\n",
    "\n",
    "string=\"\"\"curl -o Tibor_udnie.jpg -F \"file=@./images/Tibor.jpg\" -F \"checkpoint=udnie.ckpt\" https://www.floydlabs.com/serve/jaQTMWjwSWMvdPGJNWDjG4\"\"\"\n",
    "\n",
    "strings=list()\n",
    "\n",
    "for name in images:\n",
    "    for checkpoint in chkpt:\n",
    "        string_new=string.replace('udnie', checkpoint)\n",
    "        strings.append(string_new.replace('Tibor', (name)))\n",
    "        print(strings[-1])        \n"
   ]
  },
  {
   "cell_type": "markdown",
   "metadata": {},
   "source": [
    "# View running jobs : \n",
    "\n",
    "floyd logs oomti/projects/fast-style-transfer/9\n"
   ]
  },
  {
   "cell_type": "markdown",
   "metadata": {},
   "source": [
    "Run new job\n",
    "\n",
    "`floyd run --env tensorflow-0.12:py2 --data narenst/datasets/neural-style-transfer-pre-trained-models/1:input --mode serve`\n",
    "\n",
    "Response\n",
    "\n",
    "`\n",
    "URL to job: https://www.floydhub.com/oomti/projects/fast-style-transfer/10\n",
    "URL to service endpoint: https://www.floydlabs.com/serve/jaQTMWjwSWMvdPGJNWDjG4\n",
    "`\n",
    "\n",
    "# Error:\n",
    "\n",
    "`\n",
    "curl -o moon_wreck.jpg -F \"file=@./images/moon.jpg\" -F \"checkpoint=wreck.ckpt\" https://www.floydlabs.com/serve/jaQTMWjwSWMvdPGJNWDjG4\n",
    "  % Total    % Received % Xferd  Average Speed   Time    Time     Time  Current\n",
    "                                 Dload  Upload   Total   Spent    Left  Speed\n",
    "100  112k  100    11  100  112k      5  53412  0:00:02  0:00:02 --:--:-- 53392\n",
    "`\n",
    "\n",
    "Image resulting in error\n",
    "`"
   ]
  }
 ],
 "metadata": {
  "kernelspec": {
   "display_name": "fast-style-transfer",
   "language": "python",
   "name": "fast-style-transfer"
  },
  "language_info": {
   "codemirror_mode": {
    "name": "ipython",
    "version": 2
   },
   "file_extension": ".py",
   "mimetype": "text/x-python",
   "name": "python",
   "nbconvert_exporter": "python",
   "pygments_lexer": "ipython2",
   "version": "2.7.15rc1"
  }
 },
 "nbformat": 4,
 "nbformat_minor": 2
}

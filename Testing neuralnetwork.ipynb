{
 "cells": [
  {
   "cell_type": "markdown",
   "metadata": {},
   "source": [
    "Putting in the neural network code for testing\n"
   ]
  },
  {
   "cell_type": "code",
   "execution_count": 297,
   "metadata": {},
   "outputs": [],
   "source": [
    "#Copypasting the neural network class\n",
    "\n",
    "import numpy as np\n",
    "import matplotlib as mpl\n",
    "\n",
    "class Layer:\n",
    "\tlearningRate=0.4\n",
    "\tdef __init__(self,inputSize, outputSize, randomSeed=15):\n",
    "\t\tself.neurons=np.zeros(outputSize)\n",
    "\t\tself.weights=np.random.rand(outputSize, inputSize)\n",
    "\t\tself.deltaWeights=np.zeros((outputSize, inputSize))\n",
    "\t\tself.deltaNeurons=np.zeros(outputSize)\n",
    "\t\tself.bias=np.zeros(outputSize)\n",
    "\n",
    "\tdef sum(self,inputVector):\n",
    "\t\tself.neurons=np.matmul(self.weights, inputVector)+self.bias\n",
    "\t\tself.neurons=self.activate()\n",
    "\n",
    "\n",
    "\tdef activate(self,deriv=False):\n",
    "\t\tif (deriv==True):\n",
    "\t\t\treturn np.multiply(self.neurons,(1-self.neurons))\n",
    "\t\treturn np.divide(1,(1+np.exp(-self.neurons)))\n",
    "\n",
    "\n",
    "\tdef backpropagate(self,inputVector, errorVector):\n",
    "\t\tself.deltaNeurons=np.multiply(errorVector, self.activate(deriv=True))\n",
    "\t\tself.deltaWeights=np.outer(self.deltaNeurons, inputVector)\n",
    "\t\tself.weights-=self.learningRate*self.deltaWeights\n",
    "\n",
    "\tdef get_weights(self):\n",
    "\t\treturn self.weights\n",
    "\n",
    "\tdef get_neurons(self):\n",
    "\t\treturn self.neurons\n",
    "\n",
    "\tdef get_bias(self):\n",
    "\t\treturn self.bias\n",
    "\n",
    "\n",
    "class Network:\n",
    "\tdef __init__(self, layers, randomSeed=15):\n",
    "\t\tself.inputVector=np.zeros(layers[0])\n",
    "\t\tself.depth=len(layers)\n",
    "\t\tself.network=[]\n",
    "\t\tfor index, size in enumerate(layers):\n",
    "\t\t\tif index==0:\n",
    "\t\t\t\tself.network.append(Layer(0,size,randomSeed))\n",
    "\t\t\telse:\n",
    "\t\t\t\tself.network.append(Layer(layers[index-1],size,randomSeed))\n",
    "\n",
    "\tdef forwardPropagate(self, inputVector):\n",
    "\t\tself.inputVector=inputVector\n",
    "\t\tfor index, layer in enumerate(self.network):\n",
    "\t\t\tif index==0:\n",
    "\t\t\t\tself.network[0].neurons=inputVector\n",
    "\t\t\telse:\n",
    "\t\t\t\tself.network[index].sum(self.network[index-1].neurons)\n",
    "\n",
    "\n",
    "\t\t\n",
    "\n",
    "\tdef backwardPropagate(self, targetVector):\n",
    "\t\tfor index, layer in reversed(list(enumerate(self.network))):\n",
    "\t\t\tif index==self.depth-1:\n",
    "\t\t\t\tself.network[index].backpropagate(self.network[index-1].neurons, self.error(targetVector))\n",
    "\t\t\telif index==0:\n",
    "\t\t\t\terrorVector=np.sum( self.network[index+1].deltaWeights*self.network[index+1].weights , 0 )\n",
    "\t\t\t\t#The below line is not necessary(causes bug, as I was planning to start with weights, but decided to ignore the weights of the first layer)\n",
    "\t\t\t\t#self.network[index].backpropagate(self.inputVector, errorVector)\n",
    "\t\t\telse:\n",
    "\t\t\t\terrorVector=np.sum( self.network[index+1].deltaWeights*self.network[index+1].weights , 0 )\n",
    "\t\t\t\tself.network[index].backpropagate(self.network[index-1].neurons, errorVector)\n",
    "\n",
    "\tdef trainEpoch(self, inputVector, targetVector):\n",
    "\t\tself.forwardPropagate(inputVector)\n",
    "\t\tself.backwardPropagate(targetVector)\n",
    "\n",
    "\tdef error(self, targetVector):\n",
    "\t\treturn targetVector-self.network[self.depth-1].neurons\n",
    "\n",
    "\tdef get_Weights(self, layer, ):\n",
    "\t\treturn self.network[layer].get_weights()\n"
   ]
  },
  {
   "cell_type": "markdown",
   "metadata": {},
   "source": []
  },
  {
   "cell_type": "code",
   "execution_count": 298,
   "metadata": {},
   "outputs": [],
   "source": [
    "#Initialize test data, import libraries\n",
    "\n",
    "import matplotlib.pyplot as plt\n",
    "import math\n",
    "\n",
    "r=[[],[],[]]\n",
    "alpha=[[],[],[]]\n",
    "test = [[],[],[]]"
   ]
  },
  {
   "cell_type": "code",
   "execution_count": 299,
   "metadata": {},
   "outputs": [],
   "source": [
    "#Create random sample for a specified distribution\n",
    "for x in range(0, 3):\n",
    "    r[x]=np.random.random_sample(500)*(x/2+1)\n",
    "    alpha[x]=np.random.random_sample(500)*2*math.pi\n",
    "    "
   ]
  },
  {
   "cell_type": "code",
   "execution_count": 300,
   "metadata": {},
   "outputs": [],
   "source": [
    "\n",
    "#translate radial data into orthogonal coordinate system \n",
    "#translate datasets in the orthogonal system\n",
    "x=r*np.sin(alpha)\n",
    "y=r*np.cos(alpha)\n",
    "x[0]=x[0]+5\n",
    "y[0]=y[0]+10\n",
    "x[1]=x[1]+3\n",
    "y[1]=y[1]+4\n",
    "x[2]=x[2]+1\n",
    "y[2]=y[2]+8"
   ]
  },
  {
   "cell_type": "code",
   "execution_count": 301,
   "metadata": {},
   "outputs": [],
   "source": [
    "#Labeling training data output for classification for different areas\n",
    "\n",
    "targetArray=[[],[],[]]\n",
    "targetArray[0]=np.concatenate((np.ones(500),np.zeros(1000)))\n",
    "targetArray[1]=np.concatenate((np.zeros(500),np.ones(500),np.zeros(500)))\n",
    "targetArray[2]=np.concatenate((np.zeros(500),np.zeros(500),np.ones(500)))\n",
    "targetArray=np.transpose(targetArray)"
   ]
  },
  {
   "cell_type": "code",
   "execution_count": 302,
   "metadata": {},
   "outputs": [],
   "source": [
    "#Moving input data into input vector array\n",
    "#Normalizing input data\n",
    "inputs = [[],[],[]]\n",
    "inputs[0]=np.concatenate((x[0],x[1],x[2]))\n",
    "inputs[1]=np.concatenate((y[0],y[1],y[2]))\n",
    "inputs[2]=np.zeros(len(inputs[0]))\n",
    "inputs[0]=(inputs[0]-inputs[0]/inputs[0]*inputs[0].mean())/inputs[0].std()\n",
    "inputs[1]=(inputs[1]-inputs[1]/inputs[1]*inputs[1].mean())/inputs[1].std()\n",
    "inputs=np.transpose(inputs)"
   ]
  },
  {
   "cell_type": "code",
   "execution_count": 303,
   "metadata": {
    "scrolled": true
   },
   "outputs": [],
   "source": [
    "#Create a random image to test image show ability of python\n",
    "img = np.random.random([80,80,3])\n"
   ]
  },
  {
   "cell_type": "code",
   "execution_count": 304,
   "metadata": {},
   "outputs": [],
   "source": [
    "#Creating a 2-4-3 feedforward neural network for testing\n",
    "neuralNetwork=Network([3, 4, 3])"
   ]
  },
  {
   "cell_type": "code",
   "execution_count": 305,
   "metadata": {},
   "outputs": [
    {
     "name": "stdout",
     "output_type": "stream",
     "text": [
      "[ 1.2935419   1.08949617  0.        ]\n",
      "\n"
     ]
    }
   ],
   "source": [
    "import random\n",
    "\n",
    "print(random.choice(inputs))\n",
    "print()"
   ]
  },
  {
   "cell_type": "code",
   "execution_count": 306,
   "metadata": {},
   "outputs": [],
   "source": [
    "#Training the neural network by sampling randomly the input array\n",
    "epochs=50000\n",
    "\n",
    "for x_ in range(0,epochs):\n",
    "    sample=random.randint(0,len(inputs)-1)\n",
    "    neuralNetwork.trainEpoch(inputs[sample],targetArray[sample])\n"
   ]
  },
  {
   "cell_type": "code",
   "execution_count": 307,
   "metadata": {},
   "outputs": [],
   "source": [
    "#Create an equidistant point set over the are we want to inspect\n",
    "test[0]=np.linspace(-1.7,2.7,80)\n",
    "test[1]=np.linspace(-2,2,80)"
   ]
  },
  {
   "cell_type": "code",
   "execution_count": 308,
   "metadata": {},
   "outputs": [],
   "source": [
    "img*=0\n",
    "for x_, val_x in enumerate(test[0]):\n",
    "    for y_, val_y in enumerate(test[1]):\n",
    "        neuralNetwork.forwardPropagate([val_x,val_y, 0])\n",
    "        index=np.argmax(neuralNetwork.network[2].neurons)\n",
    "        img[x_,y_,index]=1"
   ]
  },
  {
   "cell_type": "code",
   "execution_count": 309,
   "metadata": {},
   "outputs": [
    {
     "name": "stderr",
     "output_type": "stream",
     "text": [
      "No handles with labels found to put in legend.\n"
     ]
    },
    {
     "data": {
      "image/png": "[encoded data removed]",
      "text/plain": [
       "<matplotlib.figure.Figure at 0xae38fe6c>"
      ]
     },
     "metadata": {},
     "output_type": "display_data"
    }
   ],
   "source": [
    "#Plot test data\n",
    "fig = plt.figure(figsize=(16,8))\n",
    "ax1 = fig.add_subplot(1,2,1)\n",
    "ax2 = fig.add_subplot(1,2,2)\n",
    "ax2.imshow(img)\n",
    "\n",
    "ax1.scatter(x[1],y[1], s=10, c='b', marker=\".\", label='first')\n",
    "ax1.scatter(x[0],y[0], s=10, c='g', marker=\".\", label='second')\n",
    "ax1.scatter(x[2],y[2], s=10, c='r', marker=\".\", label='third')\n",
    "ax=ax1\n",
    "plt.legend(loc='upper left');\n",
    "plt.show()"
   ]
  },
  {
   "cell_type": "code",
   "execution_count": null,
   "metadata": {},
   "outputs": [],
   "source": []
  },
  {
   "cell_type": "code",
   "execution_count": null,
   "metadata": {},
   "outputs": [],
   "source": []
  },
  {
   "cell_type": "code",
   "execution_count": null,
   "metadata": {},
   "outputs": [],
   "source": []
  },
  {
   "cell_type": "code",
   "execution_count": null,
   "metadata": {},
   "outputs": [],
   "source": []
  },
  {
   "cell_type": "code",
   "execution_count": null,
   "metadata": {},
   "outputs": [],
   "source": [
    "\n"
   ]
  }
 ],
 "metadata": {
  "kernelspec": {
   "display_name": "Python 3",
   "language": "python",
   "name": "python3"
  },
  "language_info": {
   "codemirror_mode": {
    "name": "ipython",
    "version": 3
   },
   "file_extension": ".py",
   "mimetype": "text/x-python",
   "name": "python",
   "nbconvert_exporter": "python",
   "pygments_lexer": "ipython3",
   "version": "3.6.5"
  }
 },
 "nbformat": 4,
 "nbformat_minor": 2
}

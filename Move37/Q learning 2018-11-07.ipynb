{
 "cells": [
  {
   "cell_type": "markdown",
   "metadata": {},
   "source": [
    "## Q learning implementation on Gym frozenlake environment\n",
    "\n",
    "\n",
    "Q learning is an off policy method, where MC and dynamic programming is combined\n",
    "\n",
    "Q table is a value table for each possible state-action pair\n",
    "\n",
    "As the environment is explored our Q table gets updated:\n",
    "\n",
    "we are in S state and take A action, we get into S' state.\n",
    "A action is chosen derived from Q(S,A), using epsilon-greedy policy\n",
    "Our Q value for Q(S,A) = Q(S,A) + alpha * (reward(S,A) + gamma * Q(S',A'| where Q is highest) - Q(S,A) )\n",
    "\n",
    "alpha : learning rate\n",
    "gamma : discount factor"
   ]
  },
  {
   "cell_type": "code",
   "execution_count": 1,
   "metadata": {},
   "outputs": [],
   "source": [
    "import gym\n",
    "import numpy as np\n",
    "import matplotlib.pyplot as plt"
   ]
  },
  {
   "cell_type": "code",
   "execution_count": 2,
   "metadata": {},
   "outputs": [],
   "source": [
    "class Qtable:\n",
    "    def __init__(self, stateNumber, actionNumber,discountFactor = 0.95, learningRate = .5, epsilon = .2):\n",
    "        self.stateNumber = stateNumber\n",
    "        self.actionNumber = actionNumber\n",
    "        self.Qtable = np.zeros((stateNumber,actionNumber))\n",
    "        self.Qcount = np.ones((stateNumber,actionNumber))\n",
    "        self.gamma = discountFactor\n",
    "        self.alpha = learningRate\n",
    "        self.epsilon = epsilon #Factor for choosing between exploration and exploitation\n",
    "        \n",
    "    def get_policy(self, state):\n",
    "        probability = (self.epsilon / (self.actionNumber-1))\n",
    "        pArray = np.ones(self.actionNumber) * probability\n",
    "        if np.argmax(self.Qtable[state]) != np.argmin(self.Qtable[state]):\n",
    "            pArray[np.argmax(self.Qtable[state])] = 1-probability*(self.actionNumber-1)\n",
    "            action = np.random.choice(np.arange(self.actionNumber),p=pArray)\n",
    "        else:\n",
    "            action = np.random.choice(self.actionNumber)\n",
    "        \n",
    "        \n",
    "        return action\n",
    "    \n",
    "    def update_Q(self,state,nextState, action, reward):\n",
    "        \n",
    "        self.Qtable[state,action] += self.alpha * ( reward + self.gamma * np.max(self.Qtable[nextState]) - self.Qtable[state,action])\n",
    "        self.Qcount[state,action] += 1\n",
    "        \n",
    "def step(env,Qtable,state):\n",
    "    action = Qtable.get_policy(state)\n",
    "    (newState,reward,done,info) = env.step(action)\n",
    "    Qtable.update_Q(state,newState,action,reward)\n",
    "    \n",
    "    return (newState, action,  reward, done)\n",
    "\n",
    "def episode(env, Qtable):\n",
    "    done = False\n",
    "    state = env.reset()\n",
    "    trajectory = []\n",
    "    while not done:\n",
    "        \n",
    "        (state, action, reward, done) = step(env, Qtable,state)\n",
    "        trajectory.append([state,action, reward])\n",
    "    return ( reward, trajectory)\n",
    "\n",
    "def epicycle(env,Qtable,N):\n",
    "    rewards = np.ones(N)\n",
    "    for i in range(N):\n",
    "        (rewards[i], trajectory) = episode(env,Qtable)\n",
    "        if rewards[i] == 1: \n",
    "            #Decrease learning epsilon on each successful iteration\n",
    "            Qtable.epsilon *= 0.995\n",
    "            \n",
    "    return rewards\n",
    "        \n",
    "\n",
    "\n",
    "        "
   ]
  },
  {
   "cell_type": "code",
   "execution_count": 3,
   "metadata": {},
   "outputs": [
    {
     "name": "stdout",
     "output_type": "stream",
     "text": [
      "\n",
      "\u001b[41mS\u001b[0mFFFFFFF\n",
      "FFFFFFFF\n",
      "FFFHFFFF\n",
      "FFFFFHFF\n",
      "FFFHFFFF\n",
      "FHHFFFHF\n",
      "FHFFHFHF\n",
      "FFFHFFFG\n"
     ]
    }
   ],
   "source": [
    "environment = gym.make(\"FrozenLake8x8-v0\")\n",
    "environment.reset()\n",
    "environment.render()\n",
    "Q = Qtable(environment.env.nS,environment.env.nA )"
   ]
  },
  {
   "cell_type": "code",
   "execution_count": 4,
   "metadata": {},
   "outputs": [],
   "source": [
    "rewards = epicycle(environment, Q , 15000)"
   ]
  },
  {
   "cell_type": "code",
   "execution_count": 16,
   "metadata": {},
   "outputs": [
    {
     "data": {
      "image/png": "[encoded data removed]",
      "text/plain": [
       "<matplotlib.figure.Figure at 0xa81df8cc>"
      ]
     },
     "metadata": {
      "needs_background": "light"
     },
     "output_type": "display_data"
    }
   ],
   "source": [
    "plt.plot(np.divide(np.cumsum(rewards),np.arange(len(rewards))+1))\n",
    "plt.title(\"Success rate of training\")\n",
    "plt.show()"
   ]
  },
  {
   "cell_type": "code",
   "execution_count": 6,
   "metadata": {},
   "outputs": [],
   "source": [
    "def render(valuesMap, title):\n",
    "    plt.imshow(np.log(np.concatenate(\n",
    "    ((np.concatenate(\n",
    "        (\n",
    "            (np.reshape([element[0] for element in valuesMap],(8,8))),\n",
    "            (np.reshape([element[1] for element in valuesMap],(8,8)))\n",
    "        ),\n",
    "        axis=0\n",
    "    )),\n",
    "    (np.concatenate(\n",
    "        (\n",
    "            (np.reshape([element[3] for element in valuesMap],(8,8))),\n",
    "            (np.reshape([element[2] for element in valuesMap],(8,8)))\n",
    "        ),\n",
    "        axis=0\n",
    "    ))),\n",
    "    axis=1\n",
    "    )))\n",
    "    plt.colorbar()\n",
    "    print(\" (value of action) \\n \\n Direction of action: \\n \\n | Left | Up    | \\n |------|-------| \\n | Down | Right |\")\n",
    "    plt.title(title, fontsize = \"x-large\")\n",
    "    plt.grid(b=True,color=\"black\", which='both', axis='both',linewidth=2)\n",
    "    plt.text(1,1, \"Left\",fontsize = \"x-large\")\n",
    "    plt.text(9,9, \"Right\",fontsize = \"x-large\")\n",
    "    plt.text(1,9, \"Down\",fontsize = \"x-large\")\n",
    "    plt.text(9,1, \"Up\",fontsize = \"x-large\")\n",
    "    plt.xticks(np.arange(-.5,8*2,8),[])\n",
    "    plt.yticks(np.arange(-.5,9*2,8),[])\n",
    "\n",
    "    plt.show()"
   ]
  },
  {
   "cell_type": "code",
   "execution_count": 7,
   "metadata": {},
   "outputs": [
    {
     "name": "stdout",
     "output_type": "stream",
     "text": [
      " (value of action) \n",
      " \n",
      " Direction of action: \n",
      " \n",
      " | Left | Up    | \n",
      " |------|-------| \n",
      " | Down | Right |\n"
     ]
    },
    {
     "data": {
      "image/png": "[encoded data removed]",
      "text/plain": [
       "<matplotlib.figure.Figure at 0xa834e64c>"
      ]
     },
     "metadata": {
      "needs_background": "light"
     },
     "output_type": "display_data"
    }
   ],
   "source": [
    "render(Q.Qcount, \"Log : count of each stateActions visited\")"
   ]
  },
  {
   "cell_type": "code",
   "execution_count": 8,
   "metadata": {},
   "outputs": [
    {
     "name": "stderr",
     "output_type": "stream",
     "text": [
      "/home/oomti/.local/lib/python3.6/site-packages/ipykernel_launcher.py:17: RuntimeWarning: divide by zero encountered in log\n"
     ]
    },
    {
     "name": "stdout",
     "output_type": "stream",
     "text": [
      " (value of action) \n",
      " \n",
      " Direction of action: \n",
      " \n",
      " | Left | Up    | \n",
      " |------|-------| \n",
      " | Down | Right |\n"
     ]
    },
    {
     "data": {
      "image/png": "[encoded data removed]",
      "text/plain": [
       "<matplotlib.figure.Figure at 0xa83bbc6c>"
      ]
     },
     "metadata": {
      "needs_background": "light"
     },
     "output_type": "display_data"
    }
   ],
   "source": [
    "render(Q.Qtable, \"Log : Value of each stateAction\")"
   ]
  },
  {
   "cell_type": "code",
   "execution_count": 9,
   "metadata": {},
   "outputs": [
    {
     "name": "stdout",
     "output_type": "stream",
     "text": [
      "Policy map \n",
      " # 0 - left \n",
      " # 1 - down \n",
      " # 2 -right \n",
      " # 3 - up\n"
     ]
    },
    {
     "data": {
      "image/png": "[encoded data removed]",
      "text/plain": [
       "<matplotlib.figure.Figure at 0xa83198cc>"
      ]
     },
     "metadata": {
      "needs_background": "light"
     },
     "output_type": "display_data"
    }
   ],
   "source": [
    "size=int(Q.stateNumber**(.5))\n",
    "Q.epsilon = 0\n",
    "array=np.reshape([Q.get_policy(i) for i in range(Q.stateNumber)],(size,size))  \n",
    "plt.imshow(array)\n",
    "# 0 - left\n",
    "# 1 - down\n",
    "# 2 -right\n",
    "# 3 - up\n",
    "plt.colorbar()\n",
    "\n",
    "print(\"Policy map \\n # 0 - left \\n # 1 - down \\n # 2 -right \\n # 3 - up\")\n",
    "plt.title(\"Highest value action for each state\")\n",
    "plt.grid(b=True,color=\"black\", which='both', axis='both',linewidth=2)\n",
    "plt.xticks(np.arange(-.5,size,1),np.arange(0,size,1))\n",
    "plt.yticks(np.arange(-.5,size,1),np.arange(0,size,1))\n",
    "plt.show()"
   ]
  },
  {
   "cell_type": "code",
   "execution_count": 14,
   "metadata": {},
   "outputs": [
    {
     "name": "stdout",
     "output_type": "stream",
     "text": [
      "Iterations required : 1\n",
      "Number of steps:  60\n"
     ]
    },
    {
     "data": {
      "image/png": "[encoded data removed]",
      "text/plain": [
       "<matplotlib.figure.Figure at 0xa8182f4c>"
      ]
     },
     "metadata": {
      "needs_background": "light"
     },
     "output_type": "display_data"
    }
   ],
   "source": [
    "def trajectory(history):\n",
    "    trajectoryMap=np.zeros(environment.env.nS)\n",
    "    size=int( environment.env.nS ** (1/2) )\n",
    "    \n",
    "    for (state,action, reward) in history:\n",
    "        trajectoryMap[state] += 1\n",
    "    return trajectoryMap.reshape((size,size))\n",
    "\n",
    "reward=0\n",
    "count=0\n",
    "\n",
    "while reward!=1:\n",
    "    count+=1\n",
    "    (reward, history)= episode(environment,Q)\n",
    "\n",
    "print(\"Iterations required :\", count)\n",
    "print(\"Number of steps: \", len(history))\n",
    "plt.imshow(trajectory(history))\n",
    "plt.colorbar()\n",
    "plt.xticks(np.arange(-.5,size,1),np.arange(0,size,1))\n",
    "plt.yticks(np.arange(-.5,size,1),np.arange(0,size,1))\n",
    "plt.title(\"A sampled successful trajectory\")\n",
    "plt.xlabel(\"Number of steps: \" + str(len(history)))\n",
    "plt.show()"
   ]
  },
  {
   "cell_type": "code",
   "execution_count": null,
   "metadata": {},
   "outputs": [],
   "source": []
  }
 ],
 "metadata": {
  "kernelspec": {
   "display_name": "Python 3",
   "language": "python",
   "name": "python3"
  },
  "language_info": {
   "codemirror_mode": {
    "name": "ipython",
    "version": 3
   },
   "file_extension": ".py",
   "mimetype": "text/x-python",
   "name": "python",
   "nbconvert_exporter": "python",
   "pygments_lexer": "ipython3",
   "version": "3.6.6"
  }
 },
 "nbformat": 4,
 "nbformat_minor": 2
}

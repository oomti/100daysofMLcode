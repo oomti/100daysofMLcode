{
 "cells": [
  {
   "attachments": {},
   "cell_type": "markdown",
   "metadata": {},
   "source": [
    "# Monte carlo technique in reinforcement learning\n",
    "\n",
    "#### In this article I will attempt to explain application of MonteCarlo technique on Frozen Lake environment in openai Gym.\n",
    "\n",
    "Monte Carlo is a set of techniques, where we attempt to find how the system works by \n",
    "making random sampling, and in some way averaging the results.\n",
    "\n",
    "Due to the law of large numbers, our results should converge asymptotically to the function describing the system.\n",
    "\n",
    "##### There are multiple ways of making random sampling, in this case the constraints of the model:\n",
    "\n",
    "* State transition only depend on current state and action\n",
    "* Don't need prior knowledge of state transition probabilities or rewards.\n",
    "* Sampling happens from complete episodes.\n",
    "* Episodes must terminate.\n",
    "* States are observable\n",
    "\n",
    "##### How the model works:\n",
    "\n",
    "```\n",
    "Repeat until episode terminates:\n",
    "    Take a random action based on epsilon-greedy policy\n",
    "    (a random action by epsilon probability else action by greedy policy)\n",
    "    Append State-Action pair to episode history\n",
    "Get episode reward\n",
    "In reversed order from episode history for each state(S),action(A) pair:\n",
    "    Append reward to returns G(S,A) = reward \n",
    "    (in case a State-Action pair visited multiple times, the lowest value will count)\n",
    "    Decrease reward by gamma: reward = gamma * reward\n",
    "For each visited State-Acion pair:\n",
    "    Increase the number of visits by one: N(S,a) += 1\n",
    "    Set the new running average value V(S,a) by appending returns G(S,a)\n",
    "    as V(S,a) = V(S,a) + (G(S,a)-V(S,a))/N(S,a)\n",
    "\n",
    "```\n",
    "##### Greedy policy: \n",
    "\n",
    "From all possible Action **A** in given State **S**, choose **A** where **V(S,A)** is highest\n",
    "\n",
    "<img src=\"https://raw.githubusercontent.com/oomti/100daysofMLcode/master/Move37/images/state-action.bmp\">\n",
    "\n",
    "### The code step by step:\n",
    "\n",
    "Gym is the library which includes our test environment.\n",
    "\n",
    "You can install gym with\n",
    "\n",
    "```python\n",
    "!pip install gym  \n",
    "```\n",
    "First import the libraries we are using,\n",
    "\n",
    "```python\n",
    "import gym\n",
    "import numpy\n",
    "import matplotlib as mpl\n",
    "import matplotlib.pyplot as plt\n",
    "```\n",
    "\n",
    "We instantiate the FrozenLake8x8 environment object in gym\n",
    "\n",
    "```python\n",
    "environment = gym.make(\"FrozenLake8x8-v0\") \n",
    "```\n",
    " \n",
    "Reset the object to initial position\n",
    "\n",
    "```python\n",
    "environment.reset() \n",
    "```\n",
    "\n",
    "We can render this environment in ascii format, in a text grid:\n",
    "\n",
    "```python\n",
    "environment.render()\n",
    "```\n",
    "\n",
    "Resulting in \n",
    "\n",
    "\n",
    "```\n",
    "SFFFFFFF\n",
    "FFFFFFFF\n",
    "FFFHFFFF\n",
    "FFFFFHFF\n",
    "FFFHFFFF\n",
    "FHHFFFHF\n",
    "FHFFHFHF\n",
    "FFFHFFFG\n",
    "```\n",
    "\n",
    "\n",
    "\n",
    "\n",
    "The core of our algorithm are 2 **arrays**, storing **state-action values**, and storing the **number of visits** for each state-action pair. We also need two temporary tables, which store the returns for visited state action pairs, and a helper table, which store if a state-action pair is being visited.\n",
    "\n",
    "```python\n",
    "class mcQTable:\n",
    "    def __init__(self, number_Actions, number_States):\n",
    "        self.nA=number_Actions\n",
    "        self.nS=number_States\n",
    "        self.stateActionValue = numpy.zeros((number_States, number_Actions))\n",
    "        self.stateActionCount = numpy.ones((number_States, number_Actions))\n",
    "        self.stateActionReturns = numpy.zeros((number_States, number_Actions))\n",
    "        self.stateActionTraversed = numpy.zeros((number_States, number_Actions))\n",
    "        self.totalCount = 0 #Number of tests done using MonteCarlo methods for averaging\n",
    "```\n",
    "\n",
    "\n",
    "I need a class **method** which **gets** an **action** based on **epsilon-greedy policy**, given a state.\n",
    "I have wrapped it in a condition, that if all the values of actions in a given state are equal choose one randomly\n",
    "\n",
    "```python\n",
    "    def get_policy(self,state,epsilon):\n",
    "            if numpy.amin(self.stateActionValue[state]) != numpy.amax(self.stateActionValue[state]):\n",
    "                probability = numpy.ones(self.nA) * epsilon/(self.nA-1)\n",
    "                positionMax = numpy.argmax(self.stateActionValue[state])\n",
    "                probability[positionMax] = 1-epsilon\n",
    "                return numpy.random.choice(self.nA, p=probability)\n",
    "            else:\n",
    "                return numpy.random.choice(self.nA)\n",
    "```\n",
    "I also need a **method** which updates the **value-state map** based on the **episode history**.\n",
    "The policy could be updated by different choices: \n",
    "* We could count every visit on a given state-action pair, or only the first visit\n",
    "* We could make a weighted average of returns, or make a simple rolling average\n",
    "\n",
    "```python\n",
    "    def update_policy(self, episode, reward, gamma):\n",
    "        self.stateActionReturns *= 0\n",
    "        self.stateActionTraversed *= 0\n",
    "        for (state, action) in numpy.flip(episode,axis=0):\n",
    "            self.stateActionReturns[state,action] = reward\n",
    "            self.stateActionTraversed[state,action] = 1\n",
    "            reward *= gamma\n",
    "        self.stateActionCount +=self.stateActionTraversed\n",
    "        self.stateActionValue += numpy.divide( \\\n",
    "                                            self.stateActionReturns \\\n",
    "                                            - self.stateActionValue\\\n",
    "                                            ,self.stateActionCount)\n",
    "        self.stateActionValue = numpy.where(\\\n",
    "                                            self.stateActionTraversed\\\n",
    "                                            ,self.stateActionValue \\\n",
    "                                            + numpy.divide( \\\n",
    "                                                ( self.stateActionReturns  \\\n",
    "                                                - self.stateActionValue \\\n",
    "                                                ),self.stateActionCount) \\\n",
    "                                            ,self.stateActionValue)\n",
    "```\n",
    "\n",
    "We need a function, that walks our environment based on epsilon greedy policy, and returns the history.\n",
    "Named it **shoot**, as the the function walks the state-action field as lightning seeks it's path.\n",
    "\n",
    "```python\n",
    "def shoot(env, qTable,epsilon):\n",
    "    #A function to create a whole episode, as the lightning strikes\n",
    "    done = False\n",
    "    episodeHistory = []\n",
    "    totalReward = 0\n",
    "    state=env.reset()\n",
    "    while not done:\n",
    "        #Get the action\n",
    "        action = qTable.get_policy(state,epsilon)\n",
    "        \n",
    "        episodeHistory.append([state,action])\n",
    "        \n",
    "        (state, reward, done, info) = env.step(action)\n",
    "        \n",
    "        totalReward += reward\n",
    "    \n",
    "    #Give a negative reward, if the run is not successful\n",
    "    \n",
    "    if totalReward == 0:\n",
    "        totalReward = -1\n",
    "        \n",
    "    return (episodeHistory, totalReward)\n",
    "```\n",
    "<img src=\"https://raw.githubusercontent.com/oomti/100daysofMLcode/master/Move37/images/grid.bmp\">\n",
    "\n",
    "Having defined all our core functions , now we want to **iterate episodes**.\n",
    "We have a wrapper function, which creates an episode and updates the state-action value table.\n",
    "For testing purposes, I'm saving the resulting rewards from each episode, so I can check the gradual change of the success rate.\n",
    "\n",
    "```python\n",
    "def monteCarloTest(env,qTable,N,epsilon=1,gamma=0.95):\n",
    "    rewards=numpy.zeros(N)\n",
    "    for i in range(N):\n",
    "        epsilon*=0.999\n",
    "        (episode, rewards[i])=shoot(env, qTable,epsilon)\n",
    "        qTable.update_policy(episode, rewards[i],gamma)\n",
    "    \n",
    "    return rewards\n",
    "```\n",
    "\n",
    "After iteratively correcting errors from the code, some features of the results are presented below.\n",
    "\n",
    "<img src=\"https://raw.githubusercontent.com/oomti/100daysofMLcode/master/Move37/images/Success_rate.png\">\n",
    "\n",
    "<img src=\"https://raw.githubusercontent.com/oomti/100daysofMLcode/master/Move37/images/Value_map_combined.png\">\n",
    "\n",
    "<img src=\"https://raw.githubusercontent.com/oomti/100daysofMLcode/master/Move37/images/Value_map.png\">\n",
    "\n",
    "<img src=\"https://raw.githubusercontent.com/oomti/100daysofMLcode/master/Move37/images/Number_of_visits.png\">\n",
    "<img src=\"https://raw.githubusercontent.com/oomti/100daysofMLcode/master/Move37/images/Policy_map.png\">\n",
    "<img src=\"https://raw.githubusercontent.com/oomti/100daysofMLcode/master/Move37/images/Sample.png\">\n",
    "<img src=\"\">\n",
    "References:\n",
    "\n",
    "https://www.kth.se/social/files/58b941d5f276542843812288/RL04-Monte-Carlo.pdf\n",
    "\n",
    "https://oneraynyday.github.io/ml/2018/05/24/Reinforcement-Learning-Monte-Carlo/#example-cliff-walking"
   ]
  },
  {
   "cell_type": "code",
   "execution_count": 67,
   "metadata": {},
   "outputs": [],
   "source": [
    "import gym\n",
    "import numpy\n",
    "import matplotlib as mpl\n",
    "import matplotlib.pyplot as plt\n",
    "\n"
   ]
  },
  {
   "cell_type": "code",
   "execution_count": 68,
   "metadata": {},
   "outputs": [
    {
     "name": "stdout",
     "output_type": "stream",
     "text": [
      "\n",
      "\u001b[41mS\u001b[0mFFFFFFF\n",
      "FFFFFFFF\n",
      "FFFHFFFF\n",
      "FFFFFHFF\n",
      "FFFHFFFF\n",
      "FHHFFFHF\n",
      "FHFFHFHF\n",
      "FFFHFFFG\n",
      "Discrete(4) Discrete(64)\n",
      "4 64\n",
      "8\n"
     ]
    }
   ],
   "source": [
    "environment = gym.make(\"FrozenLake8x8-v0\")\n",
    "environment.reset()\n",
    "\n",
    "environment.render()\n",
    "print(environment.action_space, environment.observation_space)\n",
    "print(environment.env.nA, environment.env.nS)\n",
    "size= int(environment.env.nS**(.5))\n",
    "print(size)"
   ]
  },
  {
   "cell_type": "code",
   "execution_count": 69,
   "metadata": {},
   "outputs": [],
   "source": [
    "#defining parameters\n",
    "\n",
    "epsilon = 1 \n",
    "gamma = 0.95\n"
   ]
  },
  {
   "cell_type": "code",
   "execution_count": 85,
   "metadata": {},
   "outputs": [],
   "source": [
    "class mcQTable:\n",
    "    def __init__(self, number_Actions, number_States):\n",
    "        self.nA=number_Actions\n",
    "        self.nS=number_States\n",
    "        self.stateActionValue = numpy.zeros((number_States, number_Actions))\n",
    "        self.stateActionCount = numpy.ones((number_States, number_Actions))\n",
    "        self.stateActionReturns = numpy.zeros((number_States, number_Actions))\n",
    "        self.stateActionTraversed = numpy.zeros((number_States, number_Actions))\n",
    "        self.totalCount = 0 #Number of tests done using MonteCarlo methods for averaging\n",
    "        \n",
    "    def get_policy(self,state,epsilon):\n",
    "        if numpy.amin(self.stateActionValue[state]) != numpy.amax(self.stateActionValue[state]):\n",
    "            probability = numpy.ones(self.nA) * epsilon/(self.nA-1)\n",
    "            positionMax = numpy.argmax(self.stateActionValue[state])\n",
    "            probability[positionMax] = 1-epsilon\n",
    "            return numpy.random.choice(self.nA, p=probability)\n",
    "        else:\n",
    "            return numpy.random.choice(self.nA)\n",
    "        \n",
    "        \n",
    "    def update_policy(self, episode, reward, gamma):\n",
    "        self.stateActionReturns *= 0\n",
    "        self.stateActionTraversed *= 0\n",
    "        for (state, action) in numpy.flip(episode,axis=0):\n",
    "            self.stateActionReturns[state,action] = reward\n",
    "            self.stateActionTraversed[state,action] = 1\n",
    "            reward *= gamma\n",
    "        self.stateActionCount +=self.stateActionTraversed\n",
    "        self.stateActionValue += numpy.divide(self.stateActionReturns - self.stateActionValue,self.stateActionCount)\n",
    "        self.stateActionValue = numpy.where(self.stateActionTraversed\\\n",
    "                                            ,self.stateActionValue \\\n",
    "                                            + numpy.divide( \\\n",
    "                                                (self.stateActionReturns  \\\n",
    "                                                    - self.stateActionValue) \\\n",
    "                                                ,self.stateActionCount) \\\n",
    "                                            ,self.stateActionValue)\n",
    "\n",
    "\n",
    "def shoot(env, qTable,epsilon):\n",
    "    #A function to create a whole episode, as the lightning strikes\n",
    "    done = False\n",
    "    episodeHistory = []\n",
    "    totalReward = 0\n",
    "    state=env.reset()\n",
    "    while not done:\n",
    "        #Get the action\n",
    "        action = qTable.get_policy(state,epsilon)\n",
    "        \n",
    "        episodeHistory.append([state,action])\n",
    "        \n",
    "        (state, reward, done, info) = env.step(action)\n",
    "        \n",
    "        totalReward += reward\n",
    "    \n",
    "    #Give a negative reward, if the run is not successful\n",
    "    \n",
    "    if totalReward == 0:\n",
    "        totalReward = -1\n",
    "        \n",
    "    return (episodeHistory, totalReward)\n",
    "\n",
    "\n",
    "def monteCarloTest(env,qTable,N,epsilon=1,gamma=0.97):\n",
    "    rewards=numpy.zeros(N)\n",
    "    for i in range(N):\n",
    "        epsilon*=0.9995\n",
    "        (episode, rewards[i])=shoot(env, qTable,epsilon)\n",
    "        qTable.update_policy(episode, rewards[i],gamma)\n",
    "    \n",
    "    return rewards\n",
    "#----------------------------------------------------------------\n",
    "# Additional functions\n",
    "def trajectory(history):\n",
    "    trajectoryMap=numpy.zeros(environment.env.nS)\n",
    "    size=int( environment.env.nS ** (1/2) )\n",
    "    \n",
    "    for (state,action) in history:\n",
    "        trajectoryMap[state] += 1\n",
    "    return trajectoryMap.reshape((size,size))\n",
    "    \n",
    "def testSuccessRate(qTable,env,N):\n",
    "    successCount = 0\n",
    "    numberOfSteps=[]\n",
    "    for i in range(N):\n",
    "        (trajectory, reward) = shoot(env,qTable,epsilon = 0)\n",
    "        if reward > 0:\n",
    "            successCount+=1\n",
    "            numberOfSteps.append(len(trajectory))\n",
    "    return successCount, numberOfSteps\n",
    "    \n",
    "    "
   ]
  },
  {
   "cell_type": "code",
   "execution_count": 86,
   "metadata": {},
   "outputs": [],
   "source": [
    "\n",
    "\n",
    "QTable = mcQTable(environment.env.nA, environment.env.nS)\n"
   ]
  },
  {
   "cell_type": "code",
   "execution_count": 87,
   "metadata": {},
   "outputs": [],
   "source": [
    "rewards=monteCarloTest(environment,QTable,100000,epsilon=1,gamma=0.95)"
   ]
  },
  {
   "cell_type": "code",
   "execution_count": 88,
   "metadata": {},
   "outputs": [],
   "source": [
    "divisor=numpy.arange(len(rewards))\n",
    "epsilonArray=0.9995 ** divisor"
   ]
  },
  {
   "cell_type": "code",
   "execution_count": 89,
   "metadata": {},
   "outputs": [
    {
     "data": {
      "image/png": "[encoded data removed]",
      "text/plain": [
       "<matplotlib.figure.Figure at 0xa6eb074c>"
      ]
     },
     "metadata": {
      "needs_background": "light"
     },
     "output_type": "display_data"
    }
   ],
   "source": [
    "\n",
    "plt.plot(numpy.divide(numpy.cumsum((rewards+1)/2), divisor+1))\n",
    "plt.plot(epsilonArray, color=\"red\", label=\"epsilon\")\n",
    "plt.title(\"Success rate for Monte Carlo test, epsilon is decreasing\")\n",
    "plt.ylabel(\"Success rate\")\n",
    "plt.xlabel(\"Number of iterations\")\n",
    "plt.show()"
   ]
  },
  {
   "cell_type": "code",
   "execution_count": 90,
   "metadata": {},
   "outputs": [
    {
     "data": {
      "image/png": "[encoded data removed]",
      "text/plain": [
       "<matplotlib.figure.Figure at 0xa935ed6c>"
      ]
     },
     "metadata": {
      "needs_background": "light"
     },
     "output_type": "display_data"
    }
   ],
   "source": [
    "from mpl_toolkits.axes_grid1 import make_axes_locatable\n",
    "fig, ax= plt.subplots(2,2)\n",
    "# 0 - left\n",
    "# 1 - down\n",
    "# 2 -right\n",
    "# 3 - up\n",
    "vMax=numpy.max(QTable.stateActionValue)\n",
    "ax[0,0].set_title(\"Left\")\n",
    "im1 = ax[0,0].imshow(numpy.log(numpy.reshape([element[0] for element in QTable.stateActionValue],(8,8))+1))\n",
    "ax[0,1].set_title(\"Up\")\n",
    "im2 = ax[0,1].imshow(numpy.log(numpy.reshape([element[3] for element in QTable.stateActionValue],(8,8))+1))\n",
    "ax[1,0].set_title(\"Down\")\n",
    "im3 = ax[1,0].imshow(numpy.log(numpy.reshape([element[1] for element in QTable.stateActionValue],(8,8))+1))\n",
    "ax[1,1].set_title(\"Right\")\n",
    "im4 = ax[1,1].imshow(numpy.log(numpy.reshape([element[2] for element in QTable.stateActionValue],(8,8))+1))\n",
    "\n",
    "\n",
    "divider = make_axes_locatable(ax[0,0])\n",
    "cax = divider.append_axes('right', size='5%', pad=0.05)\n",
    "fig.colorbar(im1, cax=cax, orientation='vertical');\n",
    "\n",
    "divider = make_axes_locatable(ax[0,1])\n",
    "cax = divider.append_axes('right', size='5%', pad=0.05)\n",
    "fig.colorbar(im2, cax=cax, orientation='vertical');\n",
    "\n",
    "divider = make_axes_locatable(ax[1,0])\n",
    "cax = divider.append_axes('right', size='5%', pad=0.05)\n",
    "fig.colorbar(im3, cax=cax, orientation='vertical');\n",
    "\n",
    "divider = make_axes_locatable(ax[1,1])\n",
    "cax = divider.append_axes('right', size='5%', pad=0.05)\n",
    "fig.colorbar(im4, cax=cax, orientation='vertical');\n",
    "plt.show()"
   ]
  },
  {
   "cell_type": "code",
   "execution_count": 91,
   "metadata": {},
   "outputs": [
    {
     "data": {
      "text/plain": [
       "(array([54.,  5.,  1.,  1.,  1.,  0.,  1.,  0.,  0.,  1.]),\n",
       " array([-0.00609343,  0.06198502,  0.13006346,  0.19814191,  0.26622036,\n",
       "         0.3342988 ,  0.40237725,  0.4704557 ,  0.53853414,  0.60661259,\n",
       "         0.67469104]),\n",
       " <a list of 10 Patch objects>)"
      ]
     },
     "execution_count": 91,
     "metadata": {},
     "output_type": "execute_result"
    },
    {
     "data": {
      "image/png": "[encoded data removed]",
      "text/plain": [
       "<matplotlib.figure.Figure at 0xa7d2d5ec>"
      ]
     },
     "metadata": {
      "needs_background": "light"
     },
     "output_type": "display_data"
    }
   ],
   "source": [
    "plt.hist(numpy.ravel(numpy.max(QTable.stateActionValue,axis=1)))"
   ]
  },
  {
   "cell_type": "code",
   "execution_count": 92,
   "metadata": {},
   "outputs": [
    {
     "name": "stdout",
     "output_type": "stream",
     "text": [
      " (value of action) \n",
      " \n",
      " Direction of action: \n",
      " \n",
      " | Left | Up    | \n",
      " |------|-------| \n",
      " | Down | Right |\n"
     ]
    },
    {
     "data": {
      "image/png": "[encoded data removed]",
      "text/plain": [
       "<matplotlib.figure.Figure at 0xa7d2662c>"
      ]
     },
     "metadata": {
      "needs_background": "light"
     },
     "output_type": "display_data"
    }
   ],
   "source": [
    "# 0 - left\n",
    "# 1 - down\n",
    "# 2 -right\n",
    "# 3 - up\n",
    "\n",
    "\n",
    "plt.imshow(numpy.concatenate(\n",
    "    ((numpy.concatenate(\n",
    "        (\n",
    "            (numpy.reshape([element[0] for element in QTable.stateActionValue],(8,8))),\n",
    "            (numpy.reshape([element[1] for element in QTable.stateActionValue],(8,8)))\n",
    "        ),\n",
    "        axis=0\n",
    "    )),\n",
    "    (numpy.concatenate(\n",
    "        (\n",
    "            (numpy.reshape([element[3] for element in QTable.stateActionValue],(8,8))),\n",
    "            (numpy.reshape([element[2] for element in QTable.stateActionValue],(8,8)))\n",
    "        ),\n",
    "        axis=0\n",
    "    ))),\n",
    "    axis=1\n",
    "    ))\n",
    "plt.colorbar()\n",
    "print(\" (value of action) \\n \\n Direction of action: \\n \\n | Left | Up    | \\n |------|-------| \\n | Down | Right |\")\n",
    "plt.title(\"Value of each state action pair\", fontsize = \"x-large\")\n",
    "plt.grid(b=True,color=\"black\", which='both', axis='both',linewidth=2)\n",
    "plt.text(1,1, \"Left\",fontsize = \"x-large\")\n",
    "plt.text(9,9, \"Right\",fontsize = \"x-large\")\n",
    "plt.text(1,9, \"Down\",fontsize = \"x-large\")\n",
    "plt.text(9,1, \"Up\",fontsize = \"x-large\")\n",
    "plt.xticks(numpy.arange(-.5,size*2,8),[])\n",
    "plt.yticks(numpy.arange(-.5,size*2,8),[])\n",
    "\n",
    "plt.show()"
   ]
  },
  {
   "cell_type": "code",
   "execution_count": 93,
   "metadata": {},
   "outputs": [
    {
     "name": "stdout",
     "output_type": "stream",
     "text": [
      "log (number of counts) \n",
      " \n",
      " Direction of action: \n",
      " \n",
      " | Left | Up    | \n",
      " |------|-------| \n",
      " | Down | Right |\n"
     ]
    },
    {
     "data": {
      "image/png": "[encoded data removed]",
      "text/plain": [
       "<matplotlib.figure.Figure at 0xa7b5910c>"
      ]
     },
     "metadata": {
      "needs_background": "light"
     },
     "output_type": "display_data"
    }
   ],
   "source": [
    "plt.imshow(numpy.concatenate(\n",
    "    ((numpy.concatenate(\n",
    "        (\n",
    "            numpy.log(numpy.reshape([element[0] for element in QTable.stateActionCount],(8,8))),\n",
    "            numpy.log(numpy.reshape([element[1] for element in QTable.stateActionCount],(8,8)))\n",
    "        ),\n",
    "        axis=0\n",
    "    )),\n",
    "    (numpy.concatenate(\n",
    "        (\n",
    "            numpy.log(numpy.reshape([element[3] for element in QTable.stateActionCount],(8,8))),\n",
    "            numpy.log(numpy.reshape([element[2] for element in QTable.stateActionCount],(8,8)))\n",
    "        ),\n",
    "        axis=0\n",
    "    ))),\n",
    "    axis=1\n",
    "    ))\n",
    "plt.colorbar()\n",
    "print(\"log (number of counts) \\n \\n Direction of action: \\n \\n | Left | Up    | \\n |------|-------| \\n | Down | Right |\")\n",
    "plt.title(\"Number of visits for each state-action pair. Log scale\")\n",
    "plt.grid(b=True,color=\"black\", which='both', axis='both',linewidth=2)\n",
    "plt.xticks(numpy.arange(-.5,size*2,8),[])\n",
    "plt.yticks(numpy.arange(-.5,size*2,8),[])\n",
    "plt.text(1,1, \"Left\",fontsize = \"x-large\")\n",
    "plt.text(9,9, \"Right\",fontsize = \"x-large\")\n",
    "plt.text(1,9, \"Down\",fontsize = \"x-large\")\n",
    "plt.text(9,1, \"Up\",fontsize = \"x-large\")\n",
    "plt.show()"
   ]
  },
  {
   "cell_type": "code",
   "execution_count": 94,
   "metadata": {
    "scrolled": false
   },
   "outputs": [
    {
     "name": "stdout",
     "output_type": "stream",
     "text": [
      "Policy map \n",
      " # 0 - left \n",
      " # 1 - down \n",
      " # 2 -right \n",
      " # 3 - up\n"
     ]
    },
    {
     "data": {
      "image/png": "[encoded data removed]",
      "text/plain": [
       "<matplotlib.figure.Figure at 0xa7d267cc>"
      ]
     },
     "metadata": {
      "needs_background": "light"
     },
     "output_type": "display_data"
    }
   ],
   "source": [
    "size=int(QTable.nS**(.5))\n",
    "array=numpy.reshape([QTable.get_policy(i,0) for i in range(QTable.nS)],(size,size))  \n",
    "plt.imshow(array)\n",
    "# 0 - left\n",
    "# 1 - down\n",
    "# 2 -right\n",
    "# 3 - up\n",
    "plt.colorbar()\n",
    "\n",
    "print(\"Policy map \\n # 0 - left \\n # 1 - down \\n # 2 -right \\n # 3 - up\")\n",
    "plt.title(\"Highest value action for each state\")\n",
    "plt.grid(b=True,color=\"black\", which='both', axis='both',linewidth=2)\n",
    "plt.xticks(numpy.arange(-.5,size,1),numpy.arange(0,size,1))\n",
    "plt.yticks(numpy.arange(-.5,size,1),numpy.arange(0,size,1))\n",
    "plt.show()"
   ]
  },
  {
   "cell_type": "code",
   "execution_count": 95,
   "metadata": {},
   "outputs": [
    {
     "name": "stdout",
     "output_type": "stream",
     "text": [
      "Iterations required : 2\n",
      "Number of steps:  113\n"
     ]
    },
    {
     "data": {
      "image/png": "[encoded data removed]",
      "text/plain": [
       "<matplotlib.figure.Figure at 0xa7d0668c>"
      ]
     },
     "metadata": {
      "needs_background": "light"
     },
     "output_type": "display_data"
    }
   ],
   "source": [
    "reward=0\n",
    "count=0\n",
    "while reward!=1:\n",
    "    count+=1\n",
    "    (history, reward )= shoot(environment,QTable,epsilon=0.0)\n",
    "\n",
    "print(\"Iterations required :\", count)\n",
    "print(\"Number of steps: \", len(history))\n",
    "plt.imshow(trajectory(history))\n",
    "plt.colorbar()\n",
    "plt.xticks(numpy.arange(-.5,size,1),numpy.arange(0,size,1))\n",
    "plt.yticks(numpy.arange(-.5,size,1),numpy.arange(0,size,1))\n",
    "plt.title(\"A sampled successful trajectory\")\n",
    "plt.xlabel(\"Number of steps: \" + str(len(history)))\n",
    "plt.show()"
   ]
  },
  {
   "cell_type": "code",
   "execution_count": 96,
   "metadata": {},
   "outputs": [],
   "source": [
    "N = 3000\n",
    "( success, steps) = testSuccessRate(QTable,environment, N)\n"
   ]
  },
  {
   "cell_type": "code",
   "execution_count": 97,
   "metadata": {},
   "outputs": [
    {
     "data": {
      "image/png": "[encoded data removed]",
      "text/plain": [
       "<matplotlib.figure.Figure at 0xa7f77c4c>"
      ]
     },
     "metadata": {
      "needs_background": "light"
     },
     "output_type": "display_data"
    }
   ],
   "source": [
    "plt.hist(steps, bins = 60)\n",
    "plt.title(\"Succeful iterations from \" + str(N) + \" trials, success rate : \" + str(success/N))\n",
    "plt.xlabel(\"Number of steps\")\n",
    "plt.show()"
   ]
  }
 ],
 "metadata": {
  "kernelspec": {
   "display_name": "Python 3",
   "language": "python",
   "name": "python3"
  },
  "language_info": {
   "codemirror_mode": {
    "name": "ipython",
    "version": 3
   },
   "file_extension": ".py",
   "mimetype": "text/x-python",
   "name": "python",
   "nbconvert_exporter": "python",
   "pygments_lexer": "ipython3",
   "version": "3.6.6"
  }
 },
 "nbformat": 4,
 "nbformat_minor": 2
}
